{
  "nbformat": 4,
  "nbformat_minor": 0,
  "metadata": {
    "language_info": {
      "codemirror_mode": {
        "name": "ipython",
        "version": 3
      },
      "file_extension": ".py",
      "mimetype": "text/x-python",
      "name": "python",
      "nbconvert_exporter": "python",
      "pygments_lexer": "ipython3",
      "version": "3.7.9"
    },
    "orig_nbformat": 2,
    "kernelspec": {
      "name": "python3",
      "display_name": "Python 3.7.9 64-bit ('Aj': conda)",
      "metadata": {
        "interpreter": {
          "hash": "d5e711575f115ad5e3de87ed1a0ce1825728a98f2b941989c361ae410e8d6360"
        }
      }
    },
    "colab": {
      "name": "train.ipynb",
      "provenance": []
    },
    "accelerator": "GPU"
  },
  "cells": [
    {
      "cell_type": "code",
      "metadata": {
        "colab": {
          "base_uri": "https://localhost:8080/"
        },
        "id": "aXiwtYAovDSR",
        "outputId": "f060cacb-856c-410b-85c5-6db2b1dc3a02"
      },
      "source": [
        "from google.colab import drive\n",
        "drive.mount('/content/drive')"
      ],
      "execution_count": 1,
      "outputs": [
        {
          "output_type": "stream",
          "text": [
            "Drive already mounted at /content/drive; to attempt to forcibly remount, call drive.mount(\"/content/drive\", force_remount=True).\n"
          ],
          "name": "stdout"
        }
      ]
    },
    {
      "cell_type": "code",
      "metadata": {
        "colab": {
          "base_uri": "https://localhost:8080/"
        },
        "id": "grWzKuLKxge9",
        "outputId": "6ffed71c-cf71-473c-9dac-fdceb2c49fad"
      },
      "source": [
        "%tensorflow_version 2.x\n",
        "import tensorflow as tf\n",
        "device_name = tf.test.gpu_device_name()\n",
        "if device_name != '/device:GPU:0':\n",
        "  raise SystemError('GPU device not found')\n",
        "print('Found GPU at: {}'.format(device_name))\n",
        "%tensorflow_version 2.x\n",
        "import tensorflow as tf\n",
        "print(\"Tensorflow version \" + tf.__version__)\n",
        "\n",
        "# try:\n",
        "#   tpu = tf.distribute.cluster_resolver.TPUClusterResolver()  # TPU detection\n",
        "#   print('Running on TPU ', tpu.cluster_spec().as_dict()['worker'])\n",
        "# except ValueError:\n",
        "#   raise BaseException('ERROR: Not connected to a TPU runtime; please see the previous cell in this notebook for instructions!')\n",
        "\n",
        "# tf.config.experimental_connect_to_cluster(tpu)\n",
        "# tf.tpu.experimental.initialize_tpu_system(tpu)\n",
        "# tpu_strategy = tf.distribute.experimental.TPUStrategy(tpu)"
      ],
      "execution_count": 2,
      "outputs": [
        {
          "output_type": "stream",
          "text": [
            "Found GPU at: /device:GPU:0\n",
            "Tensorflow version 2.4.1\n"
          ],
          "name": "stdout"
        }
      ]
    },
    {
      "cell_type": "code",
      "metadata": {
        "id": "ka0UHYlQv9Fi"
      },
      "source": [
        "import numpy as np \n",
        "import pandas as pd \n",
        "import matplotlib.pyplot as plt\n",
        "from keras.applications import VGG19\n",
        "from sklearn.model_selection import train_test_split\n",
        "import cv2\n",
        "from sklearn.preprocessing import LabelBinarizer as lb\n",
        "from keras.layers import Input\n",
        "import tensorflow as tf\n",
        "from keras.models import Sequential,Model\n",
        "from keras.layers import Dense, Dropout, Flatten,BatchNormalization\n",
        "from tensorflow.keras.preprocessing.image import ImageDataGenerator\n",
        "from tensorflow.keras.callbacks import ModelCheckpoint\n",
        "from keras.layers import Conv2D, MaxPooling2D\n",
        "from keras.utils import np_utils\n",
        "import sklearn.metrics as metrics\n",
        "import seaborn as sns\n",
        "from keras.utils import to_categorical"
      ],
      "execution_count": 3,
      "outputs": []
    },
    {
      "cell_type": "code",
      "metadata": {
        "colab": {
          "base_uri": "https://localhost:8080/"
        },
        "id": "eQ8l9r-hvDSX",
        "outputId": "99ce8388-7ace-4805-e347-2ed5567c9bbb"
      },
      "source": [
        "# df=pd.read_csv('/content/drive/MyDrive/Mosiac_ps2/Alphabets.csv')\n",
        "df=pd.read_csv('/content/drive/MyDrive/Mosiac_ps2/digits_alpha.csv')\n",
        "# df.drop(columns='Unnamed: 0',inplace=True)\n",
        "# df=df.sample(frac=1)\n",
        "# train_x=np.transpose(df[:,1:])\n",
        "\n",
        "    "
      ],
      "execution_count": 4,
      "outputs": [
        {
          "output_type": "stream",
          "text": [
            "/usr/local/lib/python3.7/dist-packages/IPython/core/interactiveshell.py:2718: DtypeWarning: Columns (0) have mixed types.Specify dtype option on import or set low_memory=False.\n",
            "  interactivity=interactivity, compiler=compiler, result=result)\n"
          ],
          "name": "stderr"
        }
      ]
    },
    {
      "cell_type": "code",
      "metadata": {
        "colab": {
          "base_uri": "https://localhost:8080/",
          "height": 439
        },
        "id": "sy1ng5-aHGDV",
        "outputId": "8ee9f8eb-7ea9-4e81-c50d-0415ad12ae1a"
      },
      "source": [
        "df"
      ],
      "execution_count": 5,
      "outputs": [
        {
          "output_type": "execute_result",
          "data": {
            "text/html": [
              "<div>\n",
              "<style scoped>\n",
              "    .dataframe tbody tr th:only-of-type {\n",
              "        vertical-align: middle;\n",
              "    }\n",
              "\n",
              "    .dataframe tbody tr th {\n",
              "        vertical-align: top;\n",
              "    }\n",
              "\n",
              "    .dataframe thead th {\n",
              "        text-align: right;\n",
              "    }\n",
              "</style>\n",
              "<table border=\"1\" class=\"dataframe\">\n",
              "  <thead>\n",
              "    <tr style=\"text-align: right;\">\n",
              "      <th></th>\n",
              "      <th>9</th>\n",
              "      <th>0</th>\n",
              "      <th>0.1</th>\n",
              "      <th>0.2</th>\n",
              "      <th>0.3</th>\n",
              "      <th>0.4</th>\n",
              "      <th>0.5</th>\n",
              "      <th>0.6</th>\n",
              "      <th>0.7</th>\n",
              "      <th>0.8</th>\n",
              "      <th>0.9</th>\n",
              "      <th>0.10</th>\n",
              "      <th>0.11</th>\n",
              "      <th>0.12</th>\n",
              "      <th>0.13</th>\n",
              "      <th>0.14</th>\n",
              "      <th>0.15</th>\n",
              "      <th>0.16</th>\n",
              "      <th>0.17</th>\n",
              "      <th>0.18</th>\n",
              "      <th>0.19</th>\n",
              "      <th>0.20</th>\n",
              "      <th>0.21</th>\n",
              "      <th>0.22</th>\n",
              "      <th>0.23</th>\n",
              "      <th>0.24</th>\n",
              "      <th>0.25</th>\n",
              "      <th>0.26</th>\n",
              "      <th>1</th>\n",
              "      <th>1.1</th>\n",
              "      <th>1.2</th>\n",
              "      <th>0.27</th>\n",
              "      <th>0.28</th>\n",
              "      <th>0.29</th>\n",
              "      <th>2</th>\n",
              "      <th>2.1</th>\n",
              "      <th>2.2</th>\n",
              "      <th>0.30</th>\n",
              "      <th>0.31</th>\n",
              "      <th>0.32</th>\n",
              "      <th>...</th>\n",
              "      <th>3.68</th>\n",
              "      <th>3.69</th>\n",
              "      <th>3.70</th>\n",
              "      <th>3.71</th>\n",
              "      <th>0.1515</th>\n",
              "      <th>0.1516</th>\n",
              "      <th>0.1517</th>\n",
              "      <th>0.1518</th>\n",
              "      <th>0.1519</th>\n",
              "      <th>0.1520</th>\n",
              "      <th>0.1521</th>\n",
              "      <th>0.1522</th>\n",
              "      <th>0.1523</th>\n",
              "      <th>0.1524</th>\n",
              "      <th>0.1525</th>\n",
              "      <th>0.1526</th>\n",
              "      <th>0.1527</th>\n",
              "      <th>0.1528</th>\n",
              "      <th>0.1529</th>\n",
              "      <th>0.1530</th>\n",
              "      <th>0.1531</th>\n",
              "      <th>0.1532</th>\n",
              "      <th>0.1533</th>\n",
              "      <th>0.1534</th>\n",
              "      <th>0.1535</th>\n",
              "      <th>0.1536</th>\n",
              "      <th>0.1537</th>\n",
              "      <th>0.1538</th>\n",
              "      <th>0.1539</th>\n",
              "      <th>0.1540</th>\n",
              "      <th>0.1541</th>\n",
              "      <th>0.1542</th>\n",
              "      <th>0.1543</th>\n",
              "      <th>0.1544</th>\n",
              "      <th>0.1545</th>\n",
              "      <th>0.1546</th>\n",
              "      <th>0.1547</th>\n",
              "      <th>0.1548</th>\n",
              "      <th>0.1549</th>\n",
              "      <th>0.1550</th>\n",
              "    </tr>\n",
              "  </thead>\n",
              "  <tbody>\n",
              "    <tr>\n",
              "      <th>0</th>\n",
              "      <td>9</td>\n",
              "      <td>0</td>\n",
              "      <td>0</td>\n",
              "      <td>0</td>\n",
              "      <td>4</td>\n",
              "      <td>4</td>\n",
              "      <td>4</td>\n",
              "      <td>0</td>\n",
              "      <td>0</td>\n",
              "      <td>0</td>\n",
              "      <td>1</td>\n",
              "      <td>1</td>\n",
              "      <td>1</td>\n",
              "      <td>0</td>\n",
              "      <td>0</td>\n",
              "      <td>0</td>\n",
              "      <td>0</td>\n",
              "      <td>0</td>\n",
              "      <td>0</td>\n",
              "      <td>1</td>\n",
              "      <td>1</td>\n",
              "      <td>1</td>\n",
              "      <td>0</td>\n",
              "      <td>0</td>\n",
              "      <td>0</td>\n",
              "      <td>0</td>\n",
              "      <td>0</td>\n",
              "      <td>0</td>\n",
              "      <td>0</td>\n",
              "      <td>0</td>\n",
              "      <td>0</td>\n",
              "      <td>0</td>\n",
              "      <td>0</td>\n",
              "      <td>0</td>\n",
              "      <td>2</td>\n",
              "      <td>2</td>\n",
              "      <td>2</td>\n",
              "      <td>0</td>\n",
              "      <td>0</td>\n",
              "      <td>0</td>\n",
              "      <td>...</td>\n",
              "      <td>2</td>\n",
              "      <td>0</td>\n",
              "      <td>0</td>\n",
              "      <td>0</td>\n",
              "      <td>0</td>\n",
              "      <td>0</td>\n",
              "      <td>0</td>\n",
              "      <td>0</td>\n",
              "      <td>0</td>\n",
              "      <td>0</td>\n",
              "      <td>0</td>\n",
              "      <td>0</td>\n",
              "      <td>0</td>\n",
              "      <td>0</td>\n",
              "      <td>0</td>\n",
              "      <td>0</td>\n",
              "      <td>0</td>\n",
              "      <td>0</td>\n",
              "      <td>0</td>\n",
              "      <td>0</td>\n",
              "      <td>0</td>\n",
              "      <td>0</td>\n",
              "      <td>0</td>\n",
              "      <td>0</td>\n",
              "      <td>0</td>\n",
              "      <td>0</td>\n",
              "      <td>0</td>\n",
              "      <td>0</td>\n",
              "      <td>0</td>\n",
              "      <td>0</td>\n",
              "      <td>0</td>\n",
              "      <td>0</td>\n",
              "      <td>0</td>\n",
              "      <td>0</td>\n",
              "      <td>0</td>\n",
              "      <td>0</td>\n",
              "      <td>0</td>\n",
              "      <td>0</td>\n",
              "      <td>0</td>\n",
              "      <td>0</td>\n",
              "    </tr>\n",
              "    <tr>\n",
              "      <th>1</th>\n",
              "      <td>9</td>\n",
              "      <td>0</td>\n",
              "      <td>0</td>\n",
              "      <td>0</td>\n",
              "      <td>0</td>\n",
              "      <td>0</td>\n",
              "      <td>0</td>\n",
              "      <td>0</td>\n",
              "      <td>0</td>\n",
              "      <td>0</td>\n",
              "      <td>0</td>\n",
              "      <td>0</td>\n",
              "      <td>0</td>\n",
              "      <td>0</td>\n",
              "      <td>0</td>\n",
              "      <td>0</td>\n",
              "      <td>0</td>\n",
              "      <td>0</td>\n",
              "      <td>0</td>\n",
              "      <td>0</td>\n",
              "      <td>0</td>\n",
              "      <td>0</td>\n",
              "      <td>0</td>\n",
              "      <td>0</td>\n",
              "      <td>0</td>\n",
              "      <td>0</td>\n",
              "      <td>0</td>\n",
              "      <td>0</td>\n",
              "      <td>2</td>\n",
              "      <td>2</td>\n",
              "      <td>2</td>\n",
              "      <td>2</td>\n",
              "      <td>2</td>\n",
              "      <td>2</td>\n",
              "      <td>0</td>\n",
              "      <td>0</td>\n",
              "      <td>0</td>\n",
              "      <td>2</td>\n",
              "      <td>2</td>\n",
              "      <td>2</td>\n",
              "      <td>...</td>\n",
              "      <td>0</td>\n",
              "      <td>0</td>\n",
              "      <td>0</td>\n",
              "      <td>0</td>\n",
              "      <td>0</td>\n",
              "      <td>0</td>\n",
              "      <td>0</td>\n",
              "      <td>0</td>\n",
              "      <td>0</td>\n",
              "      <td>0</td>\n",
              "      <td>0</td>\n",
              "      <td>0</td>\n",
              "      <td>0</td>\n",
              "      <td>0</td>\n",
              "      <td>0</td>\n",
              "      <td>0</td>\n",
              "      <td>0</td>\n",
              "      <td>0</td>\n",
              "      <td>0</td>\n",
              "      <td>0</td>\n",
              "      <td>0</td>\n",
              "      <td>0</td>\n",
              "      <td>0</td>\n",
              "      <td>0</td>\n",
              "      <td>0</td>\n",
              "      <td>0</td>\n",
              "      <td>0</td>\n",
              "      <td>0</td>\n",
              "      <td>0</td>\n",
              "      <td>0</td>\n",
              "      <td>0</td>\n",
              "      <td>0</td>\n",
              "      <td>0</td>\n",
              "      <td>0</td>\n",
              "      <td>0</td>\n",
              "      <td>0</td>\n",
              "      <td>0</td>\n",
              "      <td>0</td>\n",
              "      <td>0</td>\n",
              "      <td>0</td>\n",
              "    </tr>\n",
              "    <tr>\n",
              "      <th>2</th>\n",
              "      <td>9</td>\n",
              "      <td>0</td>\n",
              "      <td>0</td>\n",
              "      <td>0</td>\n",
              "      <td>0</td>\n",
              "      <td>0</td>\n",
              "      <td>0</td>\n",
              "      <td>0</td>\n",
              "      <td>0</td>\n",
              "      <td>0</td>\n",
              "      <td>0</td>\n",
              "      <td>0</td>\n",
              "      <td>0</td>\n",
              "      <td>0</td>\n",
              "      <td>0</td>\n",
              "      <td>0</td>\n",
              "      <td>0</td>\n",
              "      <td>0</td>\n",
              "      <td>0</td>\n",
              "      <td>0</td>\n",
              "      <td>0</td>\n",
              "      <td>0</td>\n",
              "      <td>0</td>\n",
              "      <td>0</td>\n",
              "      <td>0</td>\n",
              "      <td>0</td>\n",
              "      <td>0</td>\n",
              "      <td>0</td>\n",
              "      <td>0</td>\n",
              "      <td>0</td>\n",
              "      <td>0</td>\n",
              "      <td>0</td>\n",
              "      <td>0</td>\n",
              "      <td>0</td>\n",
              "      <td>0</td>\n",
              "      <td>0</td>\n",
              "      <td>0</td>\n",
              "      <td>1</td>\n",
              "      <td>1</td>\n",
              "      <td>1</td>\n",
              "      <td>...</td>\n",
              "      <td>0</td>\n",
              "      <td>1</td>\n",
              "      <td>1</td>\n",
              "      <td>1</td>\n",
              "      <td>0</td>\n",
              "      <td>0</td>\n",
              "      <td>0</td>\n",
              "      <td>0</td>\n",
              "      <td>0</td>\n",
              "      <td>0</td>\n",
              "      <td>0</td>\n",
              "      <td>0</td>\n",
              "      <td>0</td>\n",
              "      <td>0</td>\n",
              "      <td>0</td>\n",
              "      <td>0</td>\n",
              "      <td>0</td>\n",
              "      <td>0</td>\n",
              "      <td>0</td>\n",
              "      <td>0</td>\n",
              "      <td>0</td>\n",
              "      <td>0</td>\n",
              "      <td>0</td>\n",
              "      <td>0</td>\n",
              "      <td>0</td>\n",
              "      <td>0</td>\n",
              "      <td>0</td>\n",
              "      <td>0</td>\n",
              "      <td>0</td>\n",
              "      <td>0</td>\n",
              "      <td>0</td>\n",
              "      <td>0</td>\n",
              "      <td>0</td>\n",
              "      <td>0</td>\n",
              "      <td>0</td>\n",
              "      <td>0</td>\n",
              "      <td>0</td>\n",
              "      <td>0</td>\n",
              "      <td>0</td>\n",
              "      <td>0</td>\n",
              "    </tr>\n",
              "    <tr>\n",
              "      <th>3</th>\n",
              "      <td>9</td>\n",
              "      <td>0</td>\n",
              "      <td>0</td>\n",
              "      <td>0</td>\n",
              "      <td>0</td>\n",
              "      <td>0</td>\n",
              "      <td>0</td>\n",
              "      <td>0</td>\n",
              "      <td>0</td>\n",
              "      <td>0</td>\n",
              "      <td>0</td>\n",
              "      <td>0</td>\n",
              "      <td>0</td>\n",
              "      <td>0</td>\n",
              "      <td>0</td>\n",
              "      <td>0</td>\n",
              "      <td>0</td>\n",
              "      <td>0</td>\n",
              "      <td>0</td>\n",
              "      <td>0</td>\n",
              "      <td>0</td>\n",
              "      <td>0</td>\n",
              "      <td>0</td>\n",
              "      <td>0</td>\n",
              "      <td>0</td>\n",
              "      <td>1</td>\n",
              "      <td>1</td>\n",
              "      <td>1</td>\n",
              "      <td>0</td>\n",
              "      <td>0</td>\n",
              "      <td>0</td>\n",
              "      <td>2</td>\n",
              "      <td>2</td>\n",
              "      <td>2</td>\n",
              "      <td>0</td>\n",
              "      <td>0</td>\n",
              "      <td>0</td>\n",
              "      <td>0</td>\n",
              "      <td>0</td>\n",
              "      <td>0</td>\n",
              "      <td>...</td>\n",
              "      <td>0</td>\n",
              "      <td>4</td>\n",
              "      <td>4</td>\n",
              "      <td>4</td>\n",
              "      <td>0</td>\n",
              "      <td>0</td>\n",
              "      <td>0</td>\n",
              "      <td>0</td>\n",
              "      <td>0</td>\n",
              "      <td>0</td>\n",
              "      <td>0</td>\n",
              "      <td>0</td>\n",
              "      <td>0</td>\n",
              "      <td>0</td>\n",
              "      <td>0</td>\n",
              "      <td>0</td>\n",
              "      <td>0</td>\n",
              "      <td>0</td>\n",
              "      <td>0</td>\n",
              "      <td>0</td>\n",
              "      <td>0</td>\n",
              "      <td>0</td>\n",
              "      <td>0</td>\n",
              "      <td>0</td>\n",
              "      <td>0</td>\n",
              "      <td>0</td>\n",
              "      <td>0</td>\n",
              "      <td>0</td>\n",
              "      <td>0</td>\n",
              "      <td>0</td>\n",
              "      <td>0</td>\n",
              "      <td>0</td>\n",
              "      <td>0</td>\n",
              "      <td>0</td>\n",
              "      <td>0</td>\n",
              "      <td>0</td>\n",
              "      <td>0</td>\n",
              "      <td>0</td>\n",
              "      <td>0</td>\n",
              "      <td>0</td>\n",
              "    </tr>\n",
              "    <tr>\n",
              "      <th>4</th>\n",
              "      <td>9</td>\n",
              "      <td>0</td>\n",
              "      <td>0</td>\n",
              "      <td>0</td>\n",
              "      <td>0</td>\n",
              "      <td>0</td>\n",
              "      <td>0</td>\n",
              "      <td>0</td>\n",
              "      <td>0</td>\n",
              "      <td>0</td>\n",
              "      <td>0</td>\n",
              "      <td>0</td>\n",
              "      <td>0</td>\n",
              "      <td>0</td>\n",
              "      <td>0</td>\n",
              "      <td>0</td>\n",
              "      <td>0</td>\n",
              "      <td>0</td>\n",
              "      <td>0</td>\n",
              "      <td>0</td>\n",
              "      <td>0</td>\n",
              "      <td>0</td>\n",
              "      <td>0</td>\n",
              "      <td>0</td>\n",
              "      <td>0</td>\n",
              "      <td>0</td>\n",
              "      <td>0</td>\n",
              "      <td>0</td>\n",
              "      <td>0</td>\n",
              "      <td>0</td>\n",
              "      <td>0</td>\n",
              "      <td>2</td>\n",
              "      <td>2</td>\n",
              "      <td>2</td>\n",
              "      <td>1</td>\n",
              "      <td>1</td>\n",
              "      <td>1</td>\n",
              "      <td>0</td>\n",
              "      <td>0</td>\n",
              "      <td>0</td>\n",
              "      <td>...</td>\n",
              "      <td>0</td>\n",
              "      <td>0</td>\n",
              "      <td>0</td>\n",
              "      <td>0</td>\n",
              "      <td>0</td>\n",
              "      <td>0</td>\n",
              "      <td>0</td>\n",
              "      <td>0</td>\n",
              "      <td>0</td>\n",
              "      <td>0</td>\n",
              "      <td>0</td>\n",
              "      <td>0</td>\n",
              "      <td>0</td>\n",
              "      <td>0</td>\n",
              "      <td>0</td>\n",
              "      <td>0</td>\n",
              "      <td>0</td>\n",
              "      <td>0</td>\n",
              "      <td>0</td>\n",
              "      <td>0</td>\n",
              "      <td>0</td>\n",
              "      <td>0</td>\n",
              "      <td>0</td>\n",
              "      <td>0</td>\n",
              "      <td>0</td>\n",
              "      <td>0</td>\n",
              "      <td>0</td>\n",
              "      <td>0</td>\n",
              "      <td>0</td>\n",
              "      <td>0</td>\n",
              "      <td>0</td>\n",
              "      <td>0</td>\n",
              "      <td>0</td>\n",
              "      <td>0</td>\n",
              "      <td>0</td>\n",
              "      <td>0</td>\n",
              "      <td>0</td>\n",
              "      <td>0</td>\n",
              "      <td>0</td>\n",
              "      <td>0</td>\n",
              "    </tr>\n",
              "    <tr>\n",
              "      <th>...</th>\n",
              "      <td>...</td>\n",
              "      <td>...</td>\n",
              "      <td>...</td>\n",
              "      <td>...</td>\n",
              "      <td>...</td>\n",
              "      <td>...</td>\n",
              "      <td>...</td>\n",
              "      <td>...</td>\n",
              "      <td>...</td>\n",
              "      <td>...</td>\n",
              "      <td>...</td>\n",
              "      <td>...</td>\n",
              "      <td>...</td>\n",
              "      <td>...</td>\n",
              "      <td>...</td>\n",
              "      <td>...</td>\n",
              "      <td>...</td>\n",
              "      <td>...</td>\n",
              "      <td>...</td>\n",
              "      <td>...</td>\n",
              "      <td>...</td>\n",
              "      <td>...</td>\n",
              "      <td>...</td>\n",
              "      <td>...</td>\n",
              "      <td>...</td>\n",
              "      <td>...</td>\n",
              "      <td>...</td>\n",
              "      <td>...</td>\n",
              "      <td>...</td>\n",
              "      <td>...</td>\n",
              "      <td>...</td>\n",
              "      <td>...</td>\n",
              "      <td>...</td>\n",
              "      <td>...</td>\n",
              "      <td>...</td>\n",
              "      <td>...</td>\n",
              "      <td>...</td>\n",
              "      <td>...</td>\n",
              "      <td>...</td>\n",
              "      <td>...</td>\n",
              "      <td>...</td>\n",
              "      <td>...</td>\n",
              "      <td>...</td>\n",
              "      <td>...</td>\n",
              "      <td>...</td>\n",
              "      <td>...</td>\n",
              "      <td>...</td>\n",
              "      <td>...</td>\n",
              "      <td>...</td>\n",
              "      <td>...</td>\n",
              "      <td>...</td>\n",
              "      <td>...</td>\n",
              "      <td>...</td>\n",
              "      <td>...</td>\n",
              "      <td>...</td>\n",
              "      <td>...</td>\n",
              "      <td>...</td>\n",
              "      <td>...</td>\n",
              "      <td>...</td>\n",
              "      <td>...</td>\n",
              "      <td>...</td>\n",
              "      <td>...</td>\n",
              "      <td>...</td>\n",
              "      <td>...</td>\n",
              "      <td>...</td>\n",
              "      <td>...</td>\n",
              "      <td>...</td>\n",
              "      <td>...</td>\n",
              "      <td>...</td>\n",
              "      <td>...</td>\n",
              "      <td>...</td>\n",
              "      <td>...</td>\n",
              "      <td>...</td>\n",
              "      <td>...</td>\n",
              "      <td>...</td>\n",
              "      <td>...</td>\n",
              "      <td>...</td>\n",
              "      <td>...</td>\n",
              "      <td>...</td>\n",
              "      <td>...</td>\n",
              "      <td>...</td>\n",
              "    </tr>\n",
              "    <tr>\n",
              "      <th>36570</th>\n",
              "      <td>5</td>\n",
              "      <td>0</td>\n",
              "      <td>0</td>\n",
              "      <td>0</td>\n",
              "      <td>0</td>\n",
              "      <td>0</td>\n",
              "      <td>0</td>\n",
              "      <td>0</td>\n",
              "      <td>0</td>\n",
              "      <td>0</td>\n",
              "      <td>0</td>\n",
              "      <td>0</td>\n",
              "      <td>0</td>\n",
              "      <td>0</td>\n",
              "      <td>0</td>\n",
              "      <td>0</td>\n",
              "      <td>0</td>\n",
              "      <td>0</td>\n",
              "      <td>0</td>\n",
              "      <td>0</td>\n",
              "      <td>0</td>\n",
              "      <td>0</td>\n",
              "      <td>0</td>\n",
              "      <td>0</td>\n",
              "      <td>0</td>\n",
              "      <td>0</td>\n",
              "      <td>0</td>\n",
              "      <td>0</td>\n",
              "      <td>2</td>\n",
              "      <td>2</td>\n",
              "      <td>2</td>\n",
              "      <td>0</td>\n",
              "      <td>0</td>\n",
              "      <td>0</td>\n",
              "      <td>0</td>\n",
              "      <td>0</td>\n",
              "      <td>0</td>\n",
              "      <td>1</td>\n",
              "      <td>1</td>\n",
              "      <td>1</td>\n",
              "      <td>...</td>\n",
              "      <td>0</td>\n",
              "      <td>0</td>\n",
              "      <td>0</td>\n",
              "      <td>0</td>\n",
              "      <td>0</td>\n",
              "      <td>0</td>\n",
              "      <td>0</td>\n",
              "      <td>0</td>\n",
              "      <td>0</td>\n",
              "      <td>0</td>\n",
              "      <td>0</td>\n",
              "      <td>0</td>\n",
              "      <td>0</td>\n",
              "      <td>0</td>\n",
              "      <td>0</td>\n",
              "      <td>0</td>\n",
              "      <td>0</td>\n",
              "      <td>0</td>\n",
              "      <td>0</td>\n",
              "      <td>0</td>\n",
              "      <td>0</td>\n",
              "      <td>0</td>\n",
              "      <td>0</td>\n",
              "      <td>0</td>\n",
              "      <td>0</td>\n",
              "      <td>0</td>\n",
              "      <td>0</td>\n",
              "      <td>0</td>\n",
              "      <td>0</td>\n",
              "      <td>0</td>\n",
              "      <td>0</td>\n",
              "      <td>0</td>\n",
              "      <td>0</td>\n",
              "      <td>0</td>\n",
              "      <td>0</td>\n",
              "      <td>0</td>\n",
              "      <td>0</td>\n",
              "      <td>0</td>\n",
              "      <td>0</td>\n",
              "      <td>0</td>\n",
              "    </tr>\n",
              "    <tr>\n",
              "      <th>36571</th>\n",
              "      <td>5</td>\n",
              "      <td>0</td>\n",
              "      <td>0</td>\n",
              "      <td>0</td>\n",
              "      <td>0</td>\n",
              "      <td>0</td>\n",
              "      <td>0</td>\n",
              "      <td>0</td>\n",
              "      <td>0</td>\n",
              "      <td>0</td>\n",
              "      <td>0</td>\n",
              "      <td>0</td>\n",
              "      <td>0</td>\n",
              "      <td>0</td>\n",
              "      <td>0</td>\n",
              "      <td>0</td>\n",
              "      <td>0</td>\n",
              "      <td>0</td>\n",
              "      <td>0</td>\n",
              "      <td>0</td>\n",
              "      <td>0</td>\n",
              "      <td>0</td>\n",
              "      <td>0</td>\n",
              "      <td>0</td>\n",
              "      <td>0</td>\n",
              "      <td>3</td>\n",
              "      <td>3</td>\n",
              "      <td>3</td>\n",
              "      <td>0</td>\n",
              "      <td>0</td>\n",
              "      <td>0</td>\n",
              "      <td>0</td>\n",
              "      <td>0</td>\n",
              "      <td>0</td>\n",
              "      <td>0</td>\n",
              "      <td>0</td>\n",
              "      <td>0</td>\n",
              "      <td>0</td>\n",
              "      <td>0</td>\n",
              "      <td>0</td>\n",
              "      <td>...</td>\n",
              "      <td>0</td>\n",
              "      <td>0</td>\n",
              "      <td>0</td>\n",
              "      <td>0</td>\n",
              "      <td>0</td>\n",
              "      <td>0</td>\n",
              "      <td>0</td>\n",
              "      <td>0</td>\n",
              "      <td>0</td>\n",
              "      <td>0</td>\n",
              "      <td>0</td>\n",
              "      <td>0</td>\n",
              "      <td>0</td>\n",
              "      <td>0</td>\n",
              "      <td>0</td>\n",
              "      <td>0</td>\n",
              "      <td>0</td>\n",
              "      <td>0</td>\n",
              "      <td>0</td>\n",
              "      <td>0</td>\n",
              "      <td>0</td>\n",
              "      <td>0</td>\n",
              "      <td>0</td>\n",
              "      <td>0</td>\n",
              "      <td>0</td>\n",
              "      <td>0</td>\n",
              "      <td>0</td>\n",
              "      <td>0</td>\n",
              "      <td>0</td>\n",
              "      <td>0</td>\n",
              "      <td>0</td>\n",
              "      <td>0</td>\n",
              "      <td>0</td>\n",
              "      <td>0</td>\n",
              "      <td>0</td>\n",
              "      <td>0</td>\n",
              "      <td>0</td>\n",
              "      <td>0</td>\n",
              "      <td>0</td>\n",
              "      <td>0</td>\n",
              "    </tr>\n",
              "    <tr>\n",
              "      <th>36572</th>\n",
              "      <td>5</td>\n",
              "      <td>0</td>\n",
              "      <td>0</td>\n",
              "      <td>0</td>\n",
              "      <td>0</td>\n",
              "      <td>0</td>\n",
              "      <td>0</td>\n",
              "      <td>0</td>\n",
              "      <td>0</td>\n",
              "      <td>0</td>\n",
              "      <td>0</td>\n",
              "      <td>0</td>\n",
              "      <td>0</td>\n",
              "      <td>0</td>\n",
              "      <td>0</td>\n",
              "      <td>0</td>\n",
              "      <td>0</td>\n",
              "      <td>0</td>\n",
              "      <td>0</td>\n",
              "      <td>0</td>\n",
              "      <td>0</td>\n",
              "      <td>0</td>\n",
              "      <td>0</td>\n",
              "      <td>0</td>\n",
              "      <td>0</td>\n",
              "      <td>0</td>\n",
              "      <td>0</td>\n",
              "      <td>0</td>\n",
              "      <td>0</td>\n",
              "      <td>0</td>\n",
              "      <td>0</td>\n",
              "      <td>1</td>\n",
              "      <td>1</td>\n",
              "      <td>1</td>\n",
              "      <td>4</td>\n",
              "      <td>4</td>\n",
              "      <td>4</td>\n",
              "      <td>0</td>\n",
              "      <td>0</td>\n",
              "      <td>0</td>\n",
              "      <td>...</td>\n",
              "      <td>0</td>\n",
              "      <td>0</td>\n",
              "      <td>0</td>\n",
              "      <td>0</td>\n",
              "      <td>0</td>\n",
              "      <td>0</td>\n",
              "      <td>0</td>\n",
              "      <td>0</td>\n",
              "      <td>0</td>\n",
              "      <td>0</td>\n",
              "      <td>0</td>\n",
              "      <td>0</td>\n",
              "      <td>0</td>\n",
              "      <td>0</td>\n",
              "      <td>0</td>\n",
              "      <td>0</td>\n",
              "      <td>0</td>\n",
              "      <td>0</td>\n",
              "      <td>0</td>\n",
              "      <td>0</td>\n",
              "      <td>0</td>\n",
              "      <td>0</td>\n",
              "      <td>0</td>\n",
              "      <td>0</td>\n",
              "      <td>0</td>\n",
              "      <td>0</td>\n",
              "      <td>0</td>\n",
              "      <td>0</td>\n",
              "      <td>0</td>\n",
              "      <td>0</td>\n",
              "      <td>0</td>\n",
              "      <td>0</td>\n",
              "      <td>0</td>\n",
              "      <td>0</td>\n",
              "      <td>0</td>\n",
              "      <td>0</td>\n",
              "      <td>0</td>\n",
              "      <td>0</td>\n",
              "      <td>0</td>\n",
              "      <td>0</td>\n",
              "    </tr>\n",
              "    <tr>\n",
              "      <th>36573</th>\n",
              "      <td>5</td>\n",
              "      <td>0</td>\n",
              "      <td>0</td>\n",
              "      <td>0</td>\n",
              "      <td>1</td>\n",
              "      <td>1</td>\n",
              "      <td>1</td>\n",
              "      <td>0</td>\n",
              "      <td>0</td>\n",
              "      <td>0</td>\n",
              "      <td>1</td>\n",
              "      <td>1</td>\n",
              "      <td>1</td>\n",
              "      <td>0</td>\n",
              "      <td>0</td>\n",
              "      <td>0</td>\n",
              "      <td>0</td>\n",
              "      <td>0</td>\n",
              "      <td>0</td>\n",
              "      <td>0</td>\n",
              "      <td>0</td>\n",
              "      <td>0</td>\n",
              "      <td>0</td>\n",
              "      <td>0</td>\n",
              "      <td>0</td>\n",
              "      <td>0</td>\n",
              "      <td>0</td>\n",
              "      <td>0</td>\n",
              "      <td>0</td>\n",
              "      <td>0</td>\n",
              "      <td>0</td>\n",
              "      <td>0</td>\n",
              "      <td>0</td>\n",
              "      <td>0</td>\n",
              "      <td>1</td>\n",
              "      <td>1</td>\n",
              "      <td>1</td>\n",
              "      <td>2</td>\n",
              "      <td>2</td>\n",
              "      <td>2</td>\n",
              "      <td>...</td>\n",
              "      <td>1</td>\n",
              "      <td>0</td>\n",
              "      <td>0</td>\n",
              "      <td>0</td>\n",
              "      <td>0</td>\n",
              "      <td>0</td>\n",
              "      <td>0</td>\n",
              "      <td>0</td>\n",
              "      <td>0</td>\n",
              "      <td>0</td>\n",
              "      <td>0</td>\n",
              "      <td>0</td>\n",
              "      <td>0</td>\n",
              "      <td>0</td>\n",
              "      <td>0</td>\n",
              "      <td>0</td>\n",
              "      <td>0</td>\n",
              "      <td>0</td>\n",
              "      <td>0</td>\n",
              "      <td>0</td>\n",
              "      <td>0</td>\n",
              "      <td>0</td>\n",
              "      <td>0</td>\n",
              "      <td>0</td>\n",
              "      <td>0</td>\n",
              "      <td>0</td>\n",
              "      <td>0</td>\n",
              "      <td>0</td>\n",
              "      <td>0</td>\n",
              "      <td>0</td>\n",
              "      <td>0</td>\n",
              "      <td>0</td>\n",
              "      <td>0</td>\n",
              "      <td>0</td>\n",
              "      <td>0</td>\n",
              "      <td>0</td>\n",
              "      <td>0</td>\n",
              "      <td>0</td>\n",
              "      <td>0</td>\n",
              "      <td>0</td>\n",
              "    </tr>\n",
              "    <tr>\n",
              "      <th>36574</th>\n",
              "      <td>5</td>\n",
              "      <td>0</td>\n",
              "      <td>0</td>\n",
              "      <td>0</td>\n",
              "      <td>0</td>\n",
              "      <td>0</td>\n",
              "      <td>0</td>\n",
              "      <td>0</td>\n",
              "      <td>0</td>\n",
              "      <td>0</td>\n",
              "      <td>0</td>\n",
              "      <td>0</td>\n",
              "      <td>0</td>\n",
              "      <td>0</td>\n",
              "      <td>0</td>\n",
              "      <td>0</td>\n",
              "      <td>0</td>\n",
              "      <td>0</td>\n",
              "      <td>0</td>\n",
              "      <td>0</td>\n",
              "      <td>0</td>\n",
              "      <td>0</td>\n",
              "      <td>0</td>\n",
              "      <td>0</td>\n",
              "      <td>0</td>\n",
              "      <td>0</td>\n",
              "      <td>0</td>\n",
              "      <td>0</td>\n",
              "      <td>1</td>\n",
              "      <td>1</td>\n",
              "      <td>1</td>\n",
              "      <td>0</td>\n",
              "      <td>0</td>\n",
              "      <td>0</td>\n",
              "      <td>0</td>\n",
              "      <td>0</td>\n",
              "      <td>0</td>\n",
              "      <td>1</td>\n",
              "      <td>1</td>\n",
              "      <td>1</td>\n",
              "      <td>...</td>\n",
              "      <td>0</td>\n",
              "      <td>0</td>\n",
              "      <td>0</td>\n",
              "      <td>0</td>\n",
              "      <td>0</td>\n",
              "      <td>0</td>\n",
              "      <td>0</td>\n",
              "      <td>0</td>\n",
              "      <td>0</td>\n",
              "      <td>0</td>\n",
              "      <td>0</td>\n",
              "      <td>0</td>\n",
              "      <td>0</td>\n",
              "      <td>0</td>\n",
              "      <td>0</td>\n",
              "      <td>0</td>\n",
              "      <td>0</td>\n",
              "      <td>0</td>\n",
              "      <td>0</td>\n",
              "      <td>0</td>\n",
              "      <td>0</td>\n",
              "      <td>0</td>\n",
              "      <td>0</td>\n",
              "      <td>0</td>\n",
              "      <td>0</td>\n",
              "      <td>0</td>\n",
              "      <td>0</td>\n",
              "      <td>0</td>\n",
              "      <td>0</td>\n",
              "      <td>0</td>\n",
              "      <td>0</td>\n",
              "      <td>0</td>\n",
              "      <td>0</td>\n",
              "      <td>0</td>\n",
              "      <td>0</td>\n",
              "      <td>0</td>\n",
              "      <td>0</td>\n",
              "      <td>0</td>\n",
              "      <td>0</td>\n",
              "      <td>0</td>\n",
              "    </tr>\n",
              "  </tbody>\n",
              "</table>\n",
              "<p>36575 rows × 2353 columns</p>\n",
              "</div>"
            ],
            "text/plain": [
              "       9  0  0.1  0.2  0.3  0.4  ...  0.1545  0.1546  0.1547  0.1548  0.1549  0.1550\n",
              "0      9  0    0    0    4    4  ...       0       0       0       0       0       0\n",
              "1      9  0    0    0    0    0  ...       0       0       0       0       0       0\n",
              "2      9  0    0    0    0    0  ...       0       0       0       0       0       0\n",
              "3      9  0    0    0    0    0  ...       0       0       0       0       0       0\n",
              "4      9  0    0    0    0    0  ...       0       0       0       0       0       0\n",
              "...   .. ..  ...  ...  ...  ...  ...     ...     ...     ...     ...     ...     ...\n",
              "36570  5  0    0    0    0    0  ...       0       0       0       0       0       0\n",
              "36571  5  0    0    0    0    0  ...       0       0       0       0       0       0\n",
              "36572  5  0    0    0    0    0  ...       0       0       0       0       0       0\n",
              "36573  5  0    0    0    1    1  ...       0       0       0       0       0       0\n",
              "36574  5  0    0    0    0    0  ...       0       0       0       0       0       0\n",
              "\n",
              "[36575 rows x 2353 columns]"
            ]
          },
          "metadata": {
            "tags": []
          },
          "execution_count": 5
        }
      ]
    },
    {
      "cell_type": "code",
      "metadata": {
        "id": "jbaxalQKz2GI"
      },
      "source": [
        "p=['key']+[i for i in range(785)]\n",
        "l=df.columns.to_list()\n",
        "d=dict(zip(l,p))\n",
        "df.rename(columns=d,inplace=True)"
      ],
      "execution_count": 6,
      "outputs": []
    },
    {
      "cell_type": "code",
      "metadata": {
        "id": "WBplrOWb02aT"
      },
      "source": [
        "# df=df.sample(frac=1)\n",
        "df.reset_index(inplace=True,drop=True)\n",
        "# df.drop('index',inplace=True)"
      ],
      "execution_count": 7,
      "outputs": []
    },
    {
      "cell_type": "code",
      "metadata": {
        "colab": {
          "base_uri": "https://localhost:8080/"
        },
        "id": "2AgjwpUe2BW6",
        "outputId": "f8a7b936-85cc-4f13-acf4-1cf321ed3286"
      },
      "source": [
        "df['key'].nunique()"
      ],
      "execution_count": 8,
      "outputs": [
        {
          "output_type": "execute_result",
          "data": {
            "text/plain": [
              "44"
            ]
          },
          "metadata": {
            "tags": []
          },
          "execution_count": 8
        }
      ]
    },
    {
      "cell_type": "code",
      "metadata": {
        "id": "POFiXMVc17gD"
      },
      "source": [
        "df['key']=df['key'].replace(1,'1')\n",
        "df['key']=df['key'].replace(2,'2')\n",
        "df['key']=df['key'].replace(3,'3')\n",
        "df['key']=df['key'].replace(4,'4')\n",
        "df['key']=df['key'].replace(5,'5')\n",
        "df['key']=df['key'].replace(5,'5')\n",
        "df['key']=df['key'].replace(6,'6')\n",
        "df['key']=df['key'].replace(7,'7')\n",
        "df['key']=df['key'].replace(8,'8')\n",
        "df['key']=df['key'].replace(9,'9')\n",
        "df['key']=df['key'].replace(0,'O')"
      ],
      "execution_count": 9,
      "outputs": []
    },
    {
      "cell_type": "code",
      "metadata": {
        "id": "unT674go23nI"
      },
      "source": [
        ""
      ],
      "execution_count": 9,
      "outputs": []
    },
    {
      "cell_type": "code",
      "metadata": {
        "id": "wqn0DHN-vDSZ"
      },
      "source": [
        "train_x=np.transpose(df.values[:,1:].reshape(len(df),28,28,3),axes=[0,1,2,3])\n",
        "train_y=df.iloc[:,0]\n",
        "num_classes=train_y.nunique()\n",
        "train_y=np.asarray(train_y)\n",
        "train_x=train_x/255"
      ],
      "execution_count": 10,
      "outputs": []
    },
    {
      "cell_type": "code",
      "metadata": {
        "id": "HkwYbIdh01tP"
      },
      "source": [
        "def show_image(dx,dy,n):\n",
        "  img=(dx[n]*255).astype(int)\n",
        "  img=img.reshape((28,28,3))\n",
        "  # img=cv2.resize(img,(128,128,3))\n",
        "  plt.title(dy[n])\n",
        "  plt.imshow(img,cmap='gray')"
      ],
      "execution_count": 11,
      "outputs": []
    },
    {
      "cell_type": "code",
      "metadata": {
        "id": "roXlr3ElyjRB"
      },
      "source": [
        "elements=df['key'].unique()"
      ],
      "execution_count": 12,
      "outputs": []
    },
    {
      "cell_type": "code",
      "metadata": {
        "colab": {
          "base_uri": "https://localhost:8080/"
        },
        "id": "-Vz0V01271rD",
        "outputId": "19e0aeb3-4d1a-4f75-f378-23ea0880c7d6"
      },
      "source": [
        "elements"
      ],
      "execution_count": 13,
      "outputs": [
        {
          "output_type": "execute_result",
          "data": {
            "text/plain": [
              "array(['9', 'F', 'T', 'D', 'H', '4', 'O', 'B', 'S', '8', 'J', 'C', 'L',\n",
              "       '7', '1', 'Z', 'M', 'A', 'E', 'W', 'N', 'I', 'G', 'U', 'K', 'X',\n",
              "       'P', '3', 'Y', 'R', 'Q', '2', 'V', '6', '5'], dtype=object)"
            ]
          },
          "metadata": {
            "tags": []
          },
          "execution_count": 13
        }
      ]
    },
    {
      "cell_type": "code",
      "metadata": {
        "colab": {
          "base_uri": "https://localhost:8080/",
          "height": 281
        },
        "id": "SsLOoXnOzh-6",
        "outputId": "88cb703a-8882-480e-fd0d-e4cb988c8ad8"
      },
      "source": [
        "show_image(train_x,train_y,15)"
      ],
      "execution_count": 14,
      "outputs": [
        {
          "output_type": "display_data",
          "data": {
            "image/png": "[encoded data removed]",
            "text/plain": [
              "<Figure size 432x288 with 1 Axes>"
            ]
          },
          "metadata": {
            "tags": [],
            "needs_background": "light"
          }
        }
      ]
    },
    {
      "cell_type": "code",
      "metadata": {
        "id": "fTYO-mYgvDSa"
      },
      "source": [
        "num_classes=35"
      ],
      "execution_count": 15,
      "outputs": []
    },
    {
      "cell_type": "code",
      "metadata": {
        "id": "wRB5x3a6vDSa"
      },
      "source": [
        "l_b=lb()\n",
        "Y=l_b.fit_transform(train_y)\n",
        "# y= to_categorical(train_y, num_classes)"
      ],
      "execution_count": 16,
      "outputs": []
    },
    {
      "cell_type": "code",
      "metadata": {
        "id": "mj6M8lSXvDSb"
      },
      "source": [
        "x_train,x_test,y_train,y_test=train_test_split(train_x,Y,test_size=0.20,random_state=2)"
      ],
      "execution_count": 17,
      "outputs": []
    },
    {
      "cell_type": "code",
      "metadata": {
        "colab": {
          "base_uri": "https://localhost:8080/"
        },
        "id": "goQAlNXCvDSb",
        "outputId": "56928812-d283-4d6a-e67f-52caa981931b"
      },
      "source": [
        "Y"
      ],
      "execution_count": 18,
      "outputs": [
        {
          "output_type": "execute_result",
          "data": {
            "text/plain": [
              "array([[0, 0, 0, ..., 0, 0, 0],\n",
              "       [0, 0, 0, ..., 0, 0, 0],\n",
              "       [0, 0, 0, ..., 0, 0, 0],\n",
              "       ...,\n",
              "       [0, 0, 0, ..., 0, 0, 0],\n",
              "       [0, 0, 0, ..., 0, 0, 0],\n",
              "       [0, 0, 0, ..., 0, 0, 0]])"
            ]
          },
          "metadata": {
            "tags": []
          },
          "execution_count": 18
        }
      ]
    },
    {
      "cell_type": "code",
      "metadata": {
        "colab": {
          "base_uri": "https://localhost:8080/",
          "height": 335
        },
        "id": "tbBCE41mvDSb",
        "outputId": "5a5660b8-8949-4e24-e819-16098ebccfde"
      },
      "source": [
        "show_image(x_train,y_train,1)\n",
        "\n"
      ],
      "execution_count": 19,
      "outputs": [
        {
          "output_type": "stream",
          "text": [
            "/usr/local/lib/python3.7/dist-packages/matplotlib/text.py:1165: FutureWarning: elementwise comparison failed; returning scalar instead, but in the future will perform elementwise comparison\n",
            "  if s != self._text:\n"
          ],
          "name": "stderr"
        },
        {
          "output_type": "display_data",
          "data": {
            "image/png": "[encoded data removed]",
            "text/plain": [
              "<Figure size 432x288 with 1 Axes>"
            ]
          },
          "metadata": {
            "tags": [],
            "needs_background": "light"
          }
        }
      ]
    },
    {
      "cell_type": "code",
      "metadata": {
        "id": "GEcK6QYLvDSc"
      },
      "source": [
        "# some=l_b.inverse_transform(Y)\n",
        "# print(len(some))"
      ],
      "execution_count": 20,
      "outputs": []
    },
    {
      "cell_type": "code",
      "metadata": {
        "id": "726FpxuMOVAR"
      },
      "source": [
        "# some=l_b.inverse_transform(elem)\n",
        "# print(len(some))"
      ],
      "execution_count": 21,
      "outputs": []
    },
    {
      "cell_type": "code",
      "metadata": {
        "colab": {
          "base_uri": "https://localhost:8080/"
        },
        "id": "_W1PWLMMvDSc",
        "outputId": "5b76eec4-d975-4dd0-d5c0-cbf15826a4fe"
      },
      "source": [
        "print(num_classes)"
      ],
      "execution_count": 22,
      "outputs": [
        {
          "output_type": "stream",
          "text": [
            "35\n"
          ],
          "name": "stdout"
        }
      ]
    },
    {
      "cell_type": "code",
      "metadata": {
        "id": "RPFXy0tZAbGm"
      },
      "source": [
        "\n",
        "# vgg19_model = VGG19(include_top = True, weights='imagenet',input_tensor=Input(shape=(28,28, 3)))\n",
        "# vgg19_model.summary()"
      ],
      "execution_count": 23,
      "outputs": []
    },
    {
      "cell_type": "code",
      "metadata": {
        "id": "420bpDHevDSc"
      },
      "source": [
        "\n",
        "# model = Sequential()\n",
        "\n",
        "# # add all layers except output from VGG19 to new model\n",
        "# for layer in vgg19_model.layers[:-1]:\n",
        "#   model.add(layer)\n",
        "  \n",
        "# # freeze all weights\n",
        "# for layer in model.layers:\n",
        "#   layer.trainable = False\n",
        "  \n",
        "# # add dropout layer and new output layer\n",
        "# model.add(Dropout(0.5))\n",
        "# model.add(Dense(35, activation='softmax'))\n",
        "# model.summary()"
      ],
      "execution_count": 24,
      "outputs": []
    },
    {
      "cell_type": "code",
      "metadata": {
        "id": "UIgoBebivDSd"
      },
      "source": [
        "model = Sequential()\n",
        "model.add(Conv2D(input_shape=(28,28,3),filters=64,kernel_size=(3,3),padding=\"same\", activation=\"relu\"))\n",
        "model.add(BatchNormalization())\n",
        "model.add(Conv2D(filters=64,kernel_size=(3,3),padding=\"same\", activation=\"relu\"))\n",
        "model.add(BatchNormalization())\n",
        "model.add(MaxPooling2D(pool_size=(2,2),strides=(2,2)))\n",
        "model.add(Dropout(0.4))\n",
        "model.add(Conv2D(filters=128, kernel_size=(3,3), padding=\"same\", activation=\"relu\"))\n",
        "model.add(BatchNormalization())\n",
        "model.add(Conv2D(filters=128, kernel_size=(3,3), padding=\"same\", activation=\"relu\"))\n",
        "model.add(BatchNormalization())\n",
        "model.add(Conv2D(filters=128, kernel_size=(3,3), padding=\"same\", activation=\"relu\"))\n",
        "\n",
        "model.add(BatchNormalization())\n",
        "\n",
        "model.add(MaxPooling2D(pool_size=(2,2),strides=(2,2)))\n",
        "model.add(Dropout(0.4))\n",
        "model.add(Conv2D(filters=256, kernel_size=(3,3), padding=\"same\", activation=\"relu\"))\n",
        "model.add(BatchNormalization())\n",
        "model.add(Conv2D(filters=256, kernel_size=(3,3), padding=\"same\", activation=\"relu\"))\n",
        "model.add(BatchNormalization())\n",
        "model.add(Conv2D(filters=256, kernel_size=(3,3), padding=\"same\", activation=\"relu\"))\n",
        "\n",
        "# model.add(BatchNormalization())\n",
        "# model.add(MaxPooling2D(pool_size=(2,2),strides=(2,2)))\n",
        "# model.add(Dropout(0.4))\n",
        "# model.add(Conv2D(filters=512, kernel_size=(3,3), padding=\"same\", activation=\"relu\"))\n",
        "# model.add(Conv2D(filters=512, kernel_size=(3,3), padding=\"same\", activation=\"relu\"))\n",
        "# model.add(Conv2D(filters=512, kernel_size=(3,3), padding=\"same\", activation=\"relu\"))\n",
        "model.add(BatchNormalization())\n",
        "# model.add(MaxPooling2D(pool_size=(2,2),strides=(2,2)))\n",
        "model.add(Flatten())\n",
        "model.add(Dropout(0.3))\n",
        "model.add(Dense(512,activation=\"relu\"))\n",
        "model.add(Dropout(0.2))\n",
        "model.add(Dense(num_classes,activation=\"softmax\"))"
      ],
      "execution_count": 25,
      "outputs": []
    },
    {
      "cell_type": "code",
      "metadata": {
        "colab": {
          "base_uri": "https://localhost:8080/"
        },
        "id": "wle4jKPJvDSe",
        "outputId": "04543327-3b1f-48c3-e7ed-910c57e4b9cf"
      },
      "source": [
        "model.compile(optimizer='adam',loss='categorical_crossentropy',metrics=['accuracy'])\n",
        "model.summary()"
      ],
      "execution_count": 26,
      "outputs": [
        {
          "output_type": "stream",
          "text": [
            "Model: \"sequential\"\n",
            "_________________________________________________________________\n",
            "Layer (type)                 Output Shape              Param #   \n",
            "=================================================================\n",
            "conv2d (Conv2D)              (None, 28, 28, 64)        1792      \n",
            "_________________________________________________________________\n",
            "batch_normalization (BatchNo (None, 28, 28, 64)        256       \n",
            "_________________________________________________________________\n",
            "conv2d_1 (Conv2D)            (None, 28, 28, 64)        36928     \n",
            "_________________________________________________________________\n",
            "batch_normalization_1 (Batch (None, 28, 28, 64)        256       \n",
            "_________________________________________________________________\n",
            "max_pooling2d (MaxPooling2D) (None, 14, 14, 64)        0         \n",
            "_________________________________________________________________\n",
            "dropout (Dropout)            (None, 14, 14, 64)        0         \n",
            "_________________________________________________________________\n",
            "conv2d_2 (Conv2D)            (None, 14, 14, 128)       73856     \n",
            "_________________________________________________________________\n",
            "batch_normalization_2 (Batch (None, 14, 14, 128)       512       \n",
            "_________________________________________________________________\n",
            "conv2d_3 (Conv2D)            (None, 14, 14, 128)       147584    \n",
            "_________________________________________________________________\n",
            "batch_normalization_3 (Batch (None, 14, 14, 128)       512       \n",
            "_________________________________________________________________\n",
            "conv2d_4 (Conv2D)            (None, 14, 14, 128)       147584    \n",
            "_________________________________________________________________\n",
            "batch_normalization_4 (Batch (None, 14, 14, 128)       512       \n",
            "_________________________________________________________________\n",
            "max_pooling2d_1 (MaxPooling2 (None, 7, 7, 128)         0         \n",
            "_________________________________________________________________\n",
            "dropout_1 (Dropout)          (None, 7, 7, 128)         0         \n",
            "_________________________________________________________________\n",
            "conv2d_5 (Conv2D)            (None, 7, 7, 256)         295168    \n",
            "_________________________________________________________________\n",
            "batch_normalization_5 (Batch (None, 7, 7, 256)         1024      \n",
            "_________________________________________________________________\n",
            "conv2d_6 (Conv2D)            (None, 7, 7, 256)         590080    \n",
            "_________________________________________________________________\n",
            "batch_normalization_6 (Batch (None, 7, 7, 256)         1024      \n",
            "_________________________________________________________________\n",
            "conv2d_7 (Conv2D)            (None, 7, 7, 256)         590080    \n",
            "_________________________________________________________________\n",
            "batch_normalization_7 (Batch (None, 7, 7, 256)         1024      \n",
            "_________________________________________________________________\n",
            "flatten (Flatten)            (None, 12544)             0         \n",
            "_________________________________________________________________\n",
            "dropout_2 (Dropout)          (None, 12544)             0         \n",
            "_________________________________________________________________\n",
            "dense (Dense)                (None, 512)               6423040   \n",
            "_________________________________________________________________\n",
            "dropout_3 (Dropout)          (None, 512)               0         \n",
            "_________________________________________________________________\n",
            "dense_1 (Dense)              (None, 35)                17955     \n",
            "=================================================================\n",
            "Total params: 8,329,187\n",
            "Trainable params: 8,326,627\n",
            "Non-trainable params: 2,560\n",
            "_________________________________________________________________\n"
          ],
          "name": "stdout"
        }
      ]
    },
    {
      "cell_type": "code",
      "metadata": {
        "id": "V4eXGOcKvDSe"
      },
      "source": [
        "checkpoint = ModelCheckpoint('/content/drive/MyDrive/Mosiac_ps2/weights/checkpoint2.h5',\n",
        "                                 monitor='val_acc',\n",
        "                                 verbose=1,\n",
        "                                 save_best_only=False,\n",
        "                                 mode='auto')"
      ],
      "execution_count": 27,
      "outputs": []
    },
    {
      "cell_type": "code",
      "metadata": {
        "id": "nlABAS0Z8dq9"
      },
      "source": [
        ""
      ],
      "execution_count": 27,
      "outputs": []
    },
    {
      "cell_type": "code",
      "metadata": {
        "id": "VaYfhLT3vDSe"
      },
      "source": [
        "def scheduler(epoch, lr):\n",
        "    \n",
        "    \n",
        "    if epoch < 10:\n",
        "        return lr\n",
        "    else:\n",
        "        return lr * tf.math.exp(-0.1)"
      ],
      "execution_count": 28,
      "outputs": []
    },
    {
      "cell_type": "code",
      "metadata": {
        "id": "3MvYj_aWvDSe"
      },
      "source": [
        "from keras.callbacks import LearningRateScheduler"
      ],
      "execution_count": 29,
      "outputs": []
    },
    {
      "cell_type": "code",
      "metadata": {
        "colab": {
          "base_uri": "https://localhost:8080/"
        },
        "id": "9n7cSfLMvDSf",
        "outputId": "b88f6dce-71cb-48a8-ea96-e0e74969ce18"
      },
      "source": [
        "callback=LearningRateScheduler(scheduler)\n",
        "batch_size=200\n",
        "steps_per_epoch = int( np.ceil(x_train.shape[0] / batch_size) )\n",
        "print(steps_per_epoch)"
      ],
      "execution_count": 30,
      "outputs": [
        {
          "output_type": "stream",
          "text": [
            "147\n"
          ],
          "name": "stdout"
        }
      ]
    },
    {
      "cell_type": "code",
      "metadata": {
        "colab": {
          "base_uri": "https://localhost:8080/"
        },
        "id": "fwkQRlK8GvKk",
        "outputId": "0d961bb7-59d3-4d9d-95d5-d0026d0a291b"
      },
      "source": [
        "len(train_x)"
      ],
      "execution_count": 31,
      "outputs": [
        {
          "output_type": "execute_result",
          "data": {
            "text/plain": [
              "36575"
            ]
          },
          "metadata": {
            "tags": []
          },
          "execution_count": 31
        }
      ]
    },
    {
      "cell_type": "code",
      "metadata": {
        "id": "IRiVRkgkvDSf"
      },
      "source": [
        "data_generator_aug=ImageDataGenerator(rotation_range=20,\n",
        "\t\tzoom_range=0.15,\n",
        "\t\twidth_shift_range=0.2,\n",
        "\t\theight_shift_range=0.2,validation_split=0.1)\n",
        "data_generator=ImageDataGenerator(validation_split=0.1)"
      ],
      "execution_count": 32,
      "outputs": []
    },
    {
      "cell_type": "code",
      "metadata": {
        "colab": {
          "base_uri": "https://localhost:8080/"
        },
        "id": "BVozPF9qvDSf",
        "outputId": "b08ac275-03f1-4c35-f3ab-69442757e07f"
      },
      "source": [
        "training_data_generator = data_generator_aug.flow(x_train,y_train,batch_size=200, subset='training')\n",
        "validation_data_generator = data_generator.flow(x_train,y_train,batch_size=200,subset='validation')\n",
        "history = model.fit(training_data_generator, steps_per_epoch=130, epochs=30, validation_data=validation_data_generator,validation_steps=1,callbacks=[checkpoint,callback])"
      ],
      "execution_count": 33,
      "outputs": [
        {
          "output_type": "stream",
          "text": [
            "Epoch 1/30\n",
            "130/130 [==============================] - 19s 108ms/step - loss: 2.9250 - accuracy: 0.2630 - val_loss: 4.8951 - val_accuracy: 0.1100\n",
            "\n",
            "Epoch 00001: saving model to /content/drive/MyDrive/Mosiac_ps2/weights/checkpoint2.h5\n",
            "Epoch 2/30\n",
            "130/130 [==============================] - 13s 102ms/step - loss: 0.7260 - accuracy: 0.7915 - val_loss: 5.3541 - val_accuracy: 0.2200\n",
            "\n",
            "Epoch 00002: saving model to /content/drive/MyDrive/Mosiac_ps2/weights/checkpoint2.h5\n",
            "Epoch 3/30\n",
            "130/130 [==============================] - 13s 102ms/step - loss: 0.4842 - accuracy: 0.8665 - val_loss: 0.8223 - val_accuracy: 0.7900\n",
            "\n",
            "Epoch 00003: saving model to /content/drive/MyDrive/Mosiac_ps2/weights/checkpoint2.h5\n",
            "Epoch 4/30\n",
            "130/130 [==============================] - 13s 102ms/step - loss: 0.3942 - accuracy: 0.8888 - val_loss: 1.2332 - val_accuracy: 0.7800\n",
            "\n",
            "Epoch 00004: saving model to /content/drive/MyDrive/Mosiac_ps2/weights/checkpoint2.h5\n",
            "Epoch 5/30\n",
            "130/130 [==============================] - 13s 101ms/step - loss: 0.3189 - accuracy: 0.9085 - val_loss: 0.1491 - val_accuracy: 0.9450\n",
            "\n",
            "Epoch 00005: saving model to /content/drive/MyDrive/Mosiac_ps2/weights/checkpoint2.h5\n",
            "Epoch 6/30\n",
            "130/130 [==============================] - 13s 101ms/step - loss: 0.3031 - accuracy: 0.9150 - val_loss: 0.2551 - val_accuracy: 0.9200\n",
            "\n",
            "Epoch 00006: saving model to /content/drive/MyDrive/Mosiac_ps2/weights/checkpoint2.h5\n",
            "Epoch 7/30\n",
            "130/130 [==============================] - 13s 101ms/step - loss: 0.2849 - accuracy: 0.9199 - val_loss: 0.0763 - val_accuracy: 0.9700\n",
            "\n",
            "Epoch 00007: saving model to /content/drive/MyDrive/Mosiac_ps2/weights/checkpoint2.h5\n",
            "Epoch 8/30\n",
            "130/130 [==============================] - 13s 101ms/step - loss: 0.2376 - accuracy: 0.9321 - val_loss: 0.1653 - val_accuracy: 0.9450\n",
            "\n",
            "Epoch 00008: saving model to /content/drive/MyDrive/Mosiac_ps2/weights/checkpoint2.h5\n",
            "Epoch 9/30\n",
            "130/130 [==============================] - 13s 102ms/step - loss: 0.2252 - accuracy: 0.9346 - val_loss: 0.1334 - val_accuracy: 0.9600\n",
            "\n",
            "Epoch 00009: saving model to /content/drive/MyDrive/Mosiac_ps2/weights/checkpoint2.h5\n",
            "Epoch 10/30\n",
            "130/130 [==============================] - 13s 102ms/step - loss: 0.2154 - accuracy: 0.9397 - val_loss: 0.1466 - val_accuracy: 0.9450\n",
            "\n",
            "Epoch 00010: saving model to /content/drive/MyDrive/Mosiac_ps2/weights/checkpoint2.h5\n",
            "Epoch 11/30\n",
            "130/130 [==============================] - 13s 100ms/step - loss: 0.2070 - accuracy: 0.9389 - val_loss: 0.1366 - val_accuracy: 0.9600\n",
            "\n",
            "Epoch 00011: saving model to /content/drive/MyDrive/Mosiac_ps2/weights/checkpoint2.h5\n",
            "Epoch 12/30\n",
            "130/130 [==============================] - 13s 100ms/step - loss: 0.1821 - accuracy: 0.9479 - val_loss: 0.1519 - val_accuracy: 0.9400\n",
            "\n",
            "Epoch 00012: saving model to /content/drive/MyDrive/Mosiac_ps2/weights/checkpoint2.h5\n",
            "Epoch 13/30\n",
            "130/130 [==============================] - 13s 100ms/step - loss: 0.1620 - accuracy: 0.9544 - val_loss: 0.0756 - val_accuracy: 0.9850\n",
            "\n",
            "Epoch 00013: saving model to /content/drive/MyDrive/Mosiac_ps2/weights/checkpoint2.h5\n",
            "Epoch 14/30\n",
            "130/130 [==============================] - 13s 101ms/step - loss: 0.1372 - accuracy: 0.9593 - val_loss: 0.0836 - val_accuracy: 0.9800\n",
            "\n",
            "Epoch 00014: saving model to /content/drive/MyDrive/Mosiac_ps2/weights/checkpoint2.h5\n",
            "Epoch 15/30\n",
            "130/130 [==============================] - 13s 99ms/step - loss: 0.1317 - accuracy: 0.9604 - val_loss: 0.1585 - val_accuracy: 0.9550\n",
            "\n",
            "Epoch 00015: saving model to /content/drive/MyDrive/Mosiac_ps2/weights/checkpoint2.h5\n",
            "Epoch 16/30\n",
            "130/130 [==============================] - 13s 99ms/step - loss: 0.1295 - accuracy: 0.9610 - val_loss: 0.0852 - val_accuracy: 0.9650\n",
            "\n",
            "Epoch 00016: saving model to /content/drive/MyDrive/Mosiac_ps2/weights/checkpoint2.h5\n",
            "Epoch 17/30\n",
            "130/130 [==============================] - 13s 99ms/step - loss: 0.1177 - accuracy: 0.9646 - val_loss: 0.0660 - val_accuracy: 0.9750\n",
            "\n",
            "Epoch 00017: saving model to /content/drive/MyDrive/Mosiac_ps2/weights/checkpoint2.h5\n",
            "Epoch 18/30\n",
            "130/130 [==============================] - 13s 99ms/step - loss: 0.1033 - accuracy: 0.9707 - val_loss: 0.0890 - val_accuracy: 0.9700\n",
            "\n",
            "Epoch 00018: saving model to /content/drive/MyDrive/Mosiac_ps2/weights/checkpoint2.h5\n",
            "Epoch 19/30\n",
            "130/130 [==============================] - 13s 99ms/step - loss: 0.0978 - accuracy: 0.9691 - val_loss: 0.1256 - val_accuracy: 0.9600\n",
            "\n",
            "Epoch 00019: saving model to /content/drive/MyDrive/Mosiac_ps2/weights/checkpoint2.h5\n",
            "Epoch 20/30\n",
            "130/130 [==============================] - 13s 101ms/step - loss: 0.0983 - accuracy: 0.9699 - val_loss: 0.0638 - val_accuracy: 0.9750\n",
            "\n",
            "Epoch 00020: saving model to /content/drive/MyDrive/Mosiac_ps2/weights/checkpoint2.h5\n",
            "Epoch 21/30\n",
            "130/130 [==============================] - 13s 100ms/step - loss: 0.0861 - accuracy: 0.9758 - val_loss: 0.1238 - val_accuracy: 0.9650\n",
            "\n",
            "Epoch 00021: saving model to /content/drive/MyDrive/Mosiac_ps2/weights/checkpoint2.h5\n",
            "Epoch 22/30\n",
            "130/130 [==============================] - 13s 100ms/step - loss: 0.0903 - accuracy: 0.9730 - val_loss: 0.1301 - val_accuracy: 0.9600\n",
            "\n",
            "Epoch 00022: saving model to /content/drive/MyDrive/Mosiac_ps2/weights/checkpoint2.h5\n",
            "Epoch 23/30\n",
            "130/130 [==============================] - 13s 100ms/step - loss: 0.0799 - accuracy: 0.9755 - val_loss: 0.1072 - val_accuracy: 0.9650\n",
            "\n",
            "Epoch 00023: saving model to /content/drive/MyDrive/Mosiac_ps2/weights/checkpoint2.h5\n",
            "Epoch 24/30\n",
            "130/130 [==============================] - 13s 101ms/step - loss: 0.0758 - accuracy: 0.9766 - val_loss: 0.0780 - val_accuracy: 0.9800\n",
            "\n",
            "Epoch 00024: saving model to /content/drive/MyDrive/Mosiac_ps2/weights/checkpoint2.h5\n",
            "Epoch 25/30\n",
            "130/130 [==============================] - 13s 100ms/step - loss: 0.0768 - accuracy: 0.9760 - val_loss: 0.0280 - val_accuracy: 0.9900\n",
            "\n",
            "Epoch 00025: saving model to /content/drive/MyDrive/Mosiac_ps2/weights/checkpoint2.h5\n",
            "Epoch 26/30\n",
            "130/130 [==============================] - 13s 100ms/step - loss: 0.0681 - accuracy: 0.9787 - val_loss: 0.0093 - val_accuracy: 1.0000\n",
            "\n",
            "Epoch 00026: saving model to /content/drive/MyDrive/Mosiac_ps2/weights/checkpoint2.h5\n",
            "Epoch 27/30\n",
            "130/130 [==============================] - 13s 101ms/step - loss: 0.0713 - accuracy: 0.9797 - val_loss: 0.0253 - val_accuracy: 0.9900\n",
            "\n",
            "Epoch 00027: saving model to /content/drive/MyDrive/Mosiac_ps2/weights/checkpoint2.h5\n",
            "Epoch 28/30\n",
            "130/130 [==============================] - 13s 100ms/step - loss: 0.0603 - accuracy: 0.9821 - val_loss: 0.0783 - val_accuracy: 0.9750\n",
            "\n",
            "Epoch 00028: saving model to /content/drive/MyDrive/Mosiac_ps2/weights/checkpoint2.h5\n",
            "Epoch 29/30\n",
            "130/130 [==============================] - 13s 100ms/step - loss: 0.0654 - accuracy: 0.9795 - val_loss: 0.0307 - val_accuracy: 0.9850\n",
            "\n",
            "Epoch 00029: saving model to /content/drive/MyDrive/Mosiac_ps2/weights/checkpoint2.h5\n",
            "Epoch 30/30\n",
            "130/130 [==============================] - 13s 101ms/step - loss: 0.0650 - accuracy: 0.9797 - val_loss: 0.0471 - val_accuracy: 0.9800\n",
            "\n",
            "Epoch 00030: saving model to /content/drive/MyDrive/Mosiac_ps2/weights/checkpoint2.h5\n"
          ],
          "name": "stdout"
        }
      ]
    },
    {
      "cell_type": "code",
      "metadata": {
        "id": "ntccVPVxvDSf"
      },
      "source": [
        "model.save('/content/drive/MyDrive/Mosiac_ps2/weights/my_model2.h5')"
      ],
      "execution_count": 34,
      "outputs": []
    },
    {
      "cell_type": "code",
      "metadata": {
        "colab": {
          "base_uri": "https://localhost:8080/"
        },
        "id": "ilvdIcnJvDSg",
        "outputId": "761388a5-0812-4a09-ec5e-4377ab5c8e40"
      },
      "source": [
        "x_train[3:4].shape"
      ],
      "execution_count": 35,
      "outputs": [
        {
          "output_type": "execute_result",
          "data": {
            "text/plain": [
              "(1, 28, 28, 3)"
            ]
          },
          "metadata": {
            "tags": []
          },
          "execution_count": 35
        }
      ]
    },
    {
      "cell_type": "code",
      "metadata": {
        "id": "ygIeHJtTRWkf"
      },
      "source": [
        "# class_mapping='123456789ABCDEFGHIJKLMNOPQRSTUVWXYZ'"
      ],
      "execution_count": 36,
      "outputs": []
    },
    {
      "cell_type": "code",
      "metadata": {
        "colab": {
          "base_uri": "https://localhost:8080/"
        },
        "id": "rJN6P6PGvDSg",
        "outputId": "a87c7ad0-85ef-4236-d2a7-d99ef5cf61d6"
      },
      "source": [
        "p=tf.convert_to_tensor(x_train[13:14],dtype=float)\n",
        "t=model.predict(p)\n",
        "# k=np.argmax(t)\n",
        "k=l_b.inverse_transform(t)\n",
        "print(k)"
      ],
      "execution_count": 37,
      "outputs": [
        {
          "output_type": "stream",
          "text": [
            "['X']\n"
          ],
          "name": "stdout"
        }
      ]
    },
    {
      "cell_type": "code",
      "metadata": {
        "colab": {
          "base_uri": "https://localhost:8080/",
          "height": 335
        },
        "id": "xcKdrBq6vDSg",
        "outputId": "0a206403-f9da-4a60-f2dc-3b4a50451a70"
      },
      "source": [
        "\n",
        "show_image(x_train,y_train,13)"
      ],
      "execution_count": 38,
      "outputs": [
        {
          "output_type": "stream",
          "text": [
            "/usr/local/lib/python3.7/dist-packages/matplotlib/text.py:1165: FutureWarning: elementwise comparison failed; returning scalar instead, but in the future will perform elementwise comparison\n",
            "  if s != self._text:\n"
          ],
          "name": "stderr"
        },
        {
          "output_type": "display_data",
          "data": {
            "image/png": "[encoded data removed]",
            "text/plain": [
              "<Figure size 432x288 with 1 Axes>"
            ]
          },
          "metadata": {
            "tags": [],
            "needs_background": "light"
          }
        }
      ]
    },
    {
      "cell_type": "code",
      "metadata": {
        "id": "5KgDKNcBvDSh"
      },
      "source": [
        "p=y_test[0:1]\n",
        "c=l_b.inverse_transform(p)\n"
      ],
      "execution_count": 39,
      "outputs": []
    },
    {
      "cell_type": "code",
      "metadata": {
        "id": "rDVKiU0NvDSh"
      },
      "source": [
        "x_test=tf.convert_to_tensor(x_test,dtype=float)\n",
        "y_test=tf.convert_to_tensor(y_test,dtype=float)"
      ],
      "execution_count": 40,
      "outputs": []
    },
    {
      "cell_type": "code",
      "metadata": {
        "colab": {
          "base_uri": "https://localhost:8080/"
        },
        "id": "tFbfhT4QvDSh",
        "outputId": "a2041220-82e0-40f5-cd05-ad566bef699a"
      },
      "source": [
        "score=model.evaluate(tf.convert_to_tensor(x_test),tf.convert_to_tensor(y_test),verbose=1)"
      ],
      "execution_count": 41,
      "outputs": [
        {
          "output_type": "stream",
          "text": [
            "229/229 [==============================] - 2s 6ms/step - loss: 0.0637 - accuracy: 0.9850\n"
          ],
          "name": "stdout"
        }
      ]
    },
    {
      "cell_type": "code",
      "metadata": {
        "colab": {
          "base_uri": "https://localhost:8080/",
          "height": 279
        },
        "id": "ltooZWe4vDSh",
        "outputId": "b8092e26-f1ab-4382-ec92-1f00272ab70e"
      },
      "source": [
        "q = len(history.history['accuracy'])\n",
        "\n",
        "plt.figsize=(10,10)\n",
        "sns.lineplot(x = range(1,1+q),y = history.history['accuracy'], label='Accuracy')\n",
        "sns.lineplot(x = range(1,1+q),y = history.history['val_accuracy'], label='Val_Accuracy')\n",
        "plt.xlabel('epochs')\n",
        "plt.ylabel('Accuray')\n",
        "plt.savefig('/content/drive/MyDrive/Mosiac_ps2/plts/my_model2.png')"
      ],
      "execution_count": 42,
      "outputs": [
        {
          "output_type": "display_data",
          "data": {
            "image/png": "[encoded data removed]",
            "text/plain": [
              "<Figure size 432x288 with 1 Axes>"
            ]
          },
          "metadata": {
            "tags": [],
            "needs_background": "light"
          }
        }
      ]
    },
    {
      "cell_type": "code",
      "metadata": {
        "colab": {
          "base_uri": "https://localhost:8080/",
          "height": 295
        },
        "id": "ewJSrcrbvDSi",
        "outputId": "9ba300b3-9fa0-4b38-bb60-95520c5a1271"
      },
      "source": [
        "plt.figure()\n",
        "plt.plot(history.history[\"loss\"], label=\"train_loss\")\n",
        "plt.plot(history.history[\"val_loss\"], label=\"val_loss\")\n",
        "plt.plot(history.history[\"accuracy\"], label=\"train_acc\")\n",
        "plt.plot(history.history[\"val_accuracy\"], label=\"val_acc\")\n",
        "plt.title(\"Training Loss and Accuracy \")\n",
        "plt.xlabel(\"Epoch #\")\n",
        "plt.ylabel(\"Loss/Accuracy\")\n",
        "plt.legend()\n",
        "plt.savefig('/content/drive/MyDrive/Mosiac_ps2/plts/my_model2_acc_vs_val.png')"
      ],
      "execution_count": 43,
      "outputs": [
        {
          "output_type": "display_data",
          "data": {
            "image/png": "[encoded data removed]",
            "text/plain": [
              "<Figure size 432x288 with 1 Axes>"
            ]
          },
          "metadata": {
            "tags": [],
            "needs_background": "light"
          }
        }
      ]
    },
    {
      "cell_type": "code",
      "metadata": {
        "id": "jQ3RbmsDvDSi"
      },
      "source": [
        ""
      ],
      "execution_count": 43,
      "outputs": []
    }
  ]
}